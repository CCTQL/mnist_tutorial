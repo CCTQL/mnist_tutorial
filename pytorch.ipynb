{
 "cells": [
  {
   "cell_type": "markdown",
   "metadata": {},
   "source": [
    "# Pytorch Tutorial"
   ]
  },
  {
   "cell_type": "markdown",
   "metadata": {},
   "source": [
    "Pytorch is a popular deep learning framework and it's easy to get started."
   ]
  },
  {
   "cell_type": "code",
   "execution_count": 1,
   "metadata": {
    "collapsed": true,
    "pycharm": {
     "is_executing": false
    }
   },
   "outputs": [],
   "source": [
    "import torch\n",
    "import torch.nn as nn\n",
    "import torch.utils.data as data\n",
    "import torchvision\n",
    "import torchvision.transforms as transforms\n",
    "from tqdm import tqdm\n",
    "import time\n",
    "import torch.optim as optim\n",
    "import torch.nn.functional as F\n",
    "\n",
    "DEVICE = torch.device('cpu')\n",
    "BATCH_SIZE = 128\n",
    "NUM_EPOCHS = 10"
   ]
  },
  {
   "cell_type": "markdown",
   "metadata": {},
   "source": [
    "First, we read the mnist data, preprocess them and encapsulate them into dataloader form."
   ]
  },
  {
   "cell_type": "code",
   "execution_count": 2,
   "metadata": {
    "collapsed": true,
    "pycharm": {
     "is_executing": false
    }
   },
   "outputs": [],
   "source": [
    "# preprocessing\n",
    "normalize = transforms.Normalize(mean=[.5], std=[.5])\n",
    "transform = transforms.Compose([transforms.ToTensor(), normalize])\n",
    "\n",
    "# download and load the data\n",
    "train_dataset = torchvision.datasets.MNIST(root='./mnist/', train=True, transform=transform, download=True)\n",
    "test_dataset = torchvision.datasets.MNIST(root='./mnist/', train=False, transform=transform, download=False)\n",
    "\n",
    "# encapsulate them into dataloader form\n",
    "train_loader = data.DataLoader(train_dataset, batch_size=BATCH_SIZE, shuffle=True, drop_last=True)\n",
    "test_loader = data.DataLoader(test_dataset, batch_size=BATCH_SIZE, shuffle=False, drop_last=True)"
   ]
  },
  {
   "cell_type": "markdown",
   "metadata": {},
   "source": [
    "Then, we define the model, object function and optimizer that we use to classify."
   ]
  },
  {
   "cell_type": "code",
   "execution_count": 3,
   "metadata": {
    "collapsed": true,
    "pycharm": {
     "is_executing": false
    }
   },
   "outputs": [],
   "source": [
    "class SimpleNet(nn.Module):\n",
    "# TODO:define model\n",
    "    def __init__(self):\n",
    "        super(SimpleNet, self).__init__()\n",
    "        self.conv1 = torch.nn.Sequential(torch.nn.Conv2d(1,8,kernel_size=3,stride=1,padding=1),\n",
    "                                         torch.nn.ReLU(),\n",
    "                                         torch.nn.Conv2d(8,16,kernel_size=3,stride=1,padding=1),\n",
    "                                         torch.nn.ReLU(),\n",
    "                                         torch.nn.MaxPool2d(stride=2,kernel_size=2))\n",
    "        self.dense = torch.nn.Sequential(torch.nn.Linear(14*14*16,128),\n",
    "                                         torch.nn.ReLU(),\n",
    "                                         torch.nn.Dropout(p=0.5),\n",
    "                                         torch.nn.Linear(128, 10))\n",
    "    def forward(self, x):\n",
    "        x = self.conv1(x)\n",
    "        x = x.view(-1, 14*14*16)\n",
    "        x = self.dense(x)\n",
    "        return x\n",
    "    \n",
    "    \n",
    "model = SimpleNet()\n",
    "\n",
    "# TODO:define loss function and optimiter\n",
    "criterion = nn.CrossEntropyLoss()\n",
    "optimizer = torch.optim.Adam(model.parameters())"
   ]
  },
  {
   "cell_type": "markdown",
   "metadata": {},
   "source": [
    "Next, we can start to train and evaluate!"
   ]
  },
  {
   "cell_type": "code",
   "execution_count": 4,
   "metadata": {
    "collapsed": true,
    "scrolled": true,
    "pycharm": {
     "is_executing": false
    }
   },
   "outputs": [
    {
     "name": "stderr",
     "text": [
      "100%|██████████| 468/468 [01:40<00:00,  4.68it/s]\n",
      "100%|██████████| 468/468 [01:26<00:00,  5.39it/s]\n",
      "100%|██████████| 468/468 [01:38<00:00,  4.74it/s]\n",
      "100%|██████████| 468/468 [01:30<00:00,  5.16it/s]\n",
      "100%|██████████| 468/468 [01:36<00:00,  4.86it/s]\n",
      "100%|██████████| 468/468 [01:30<00:00,  5.19it/s]\n",
      "100%|██████████| 468/468 [01:29<00:00,  5.25it/s]\n",
      "100%|██████████| 468/468 [01:28<00:00,  5.31it/s]\n",
      "100%|██████████| 468/468 [01:29<00:00,  5.23it/s]\n",
      "100%|██████████| 468/468 [01:37<00:00,  4.81it/s]\n"
     ],
     "output_type": "stream"
    },
    {
     "name": "stdout",
     "text": [
      "epoch: 0\n",
      "Train Accuracy: 58089/60000(96.81%)\n",
      "Test  Accuracy: 9677/10000(96.77%)\n",
      "epoch: 1\n",
      "Train Accuracy: 58781/60000(97.97%)\n",
      "Test  Accuracy: 9786/10000(97.86%)\n",
      "epoch: 2\n",
      "Train Accuracy: 59031/60000(98.39%)\n",
      "Test  Accuracy: 9816/10000(98.16%)\n",
      "epoch: 3\n",
      "Train Accuracy: 59239/60000(98.73%)\n",
      "Test  Accuracy: 9842/10000(98.42%)\n",
      "epoch: 4\n",
      "Train Accuracy: 59376/60000(98.96%)\n",
      "Test  Accuracy: 9868/10000(98.68%)\n",
      "epoch: 5\n",
      "Train Accuracy: 59349/60000(98.92%)\n",
      "Test  Accuracy: 9849/10000(98.49%)\n",
      "epoch: 6\n",
      "Train Accuracy: 59497/60000(99.16%)\n",
      "Test  Accuracy: 9863/10000(98.63%)\n",
      "epoch: 7\n",
      "Train Accuracy: 59521/60000(99.2%)\n",
      "Test  Accuracy: 9867/10000(98.67%)\n",
      "epoch: 8\n",
      "Train Accuracy: 59599/60000(99.33%)\n",
      "Test  Accuracy: 9879/10000(98.79%)\n",
      "epoch: 9\n",
      "Train Accuracy: 59630/60000(99.38%)\n",
      "Test  Accuracy: 9871/10000(98.71%)\n"
     ],
     "output_type": "stream"
    }
   ],
   "source": [
    "# train and evaluate\n",
    "for epoch in range(NUM_EPOCHS):\n",
    "    print(\"epoch:\", +epoch)\n",
    "    model.train()\n",
    "    for images, labels in tqdm(train_loader):\n",
    "        # TODO:forward + backward + optimize\n",
    "        images,labels = images.to(DEVICE),labels.to(DEVICE)\n",
    "        optimizer.zero_grad()\n",
    "        output = model(images)\n",
    "        loss = criterion(output,labels)\n",
    "        loss.backward()\n",
    "        optimizer.step()      \n",
    "    # evaluate\n",
    "    # TODO:calculate the accuracy using traning and testing dataset\n",
    "    model.eval()\n",
    "    test_loss = 0\n",
    "    correct_num_test = 0\n",
    "    train_loss = 0\n",
    "    correct_num_train = 0\n",
    "    with torch.no_grad():\n",
    "        for images, labels in train_loader:\n",
    "            images, labels = images.to(DEVICE), labels.to(DEVICE)\n",
    "            output = model(images)\n",
    "            train_loss += torch.nn.functional.nll_loss(output, labels, reduction='sum').item()\n",
    "            pred = output.max(1, keepdim=True)[1]\n",
    "            correct_num_train += pred.eq(labels.view_as(pred)).sum().item()\n",
    "    train_loss /= len(test_loader.dataset)\n",
    "    correct_rate = 100. * correct_num_train / len(train_loader.dataset)\n",
    "    print('Train Accuracy: {0}/{1}({2:.4}%)'.format(correct_num_train,len(train_loader.dataset),correct_rate))\n",
    "    \n",
    "    with torch.no_grad():\n",
    "        for images, labels in test_loader:\n",
    "            images, labels = images.to(DEVICE), labels.to(DEVICE)\n",
    "            output = model(images)\n",
    "            test_loss += torch.nn.functional.nll_loss(output, labels, reduction='sum').item()\n",
    "            pred = output.max(1, keepdim=True)[1]\n",
    "            correct_num_test += pred.eq(labels.view_as(pred)).sum().item()\n",
    "    test_loss /= len(test_loader.dataset)\n",
    "    correct_rate = 100. * correct_num_test / len(test_loader.dataset)\n",
    "    print('Test  Accuracy: {0}/{1}({2:.4}%)'.format(correct_num_test,len(test_loader.dataset),correct_rate))\n",
    "      \n",
    "        \n",
    "        \n",
    "        \n",
    "        \n",
    "    # evaluate\n",
    "    # TODO:calculate the accuracy using traning and testing dataset\n",
    "    \n",
    "    \n",
    "    \n",
    "    \n"
   ]
  },
  {
   "cell_type": "markdown",
   "metadata": {},
   "source": [
    "#### Q5:\n",
    "Please print the training and testing accuracy."
   ]
  }
 ],
 "metadata": {
  "kernelspec": {
   "display_name": "Python [default]",
   "language": "python",
   "name": "python3"
  },
  "language_info": {
   "codemirror_mode": {
    "name": "ipython",
    "version": 3
   },
   "file_extension": ".py",
   "mimetype": "text/x-python",
   "name": "python",
   "nbconvert_exporter": "python",
   "pygments_lexer": "ipython3",
   "version": "3.6.3"
  },
  "pycharm": {
   "stem_cell": {
    "cell_type": "raw",
    "source": [],
    "metadata": {
     "collapsed": false
    }
   }
  }
 },
 "nbformat": 4,
 "nbformat_minor": 2
}